{
  "nbformat": 4,
  "nbformat_minor": 0,
  "metadata": {
    "colab": {
      "name": "FINAL of Spam filter SVM",
      "provenance": [],
      "collapsed_sections": []
    },
    "kernelspec": {
      "name": "python3",
      "display_name": "Python 3"
    },
    "language_info": {
      "name": "python"
    }
  },
  "cells": [
    {
      "cell_type": "code",
      "execution_count": null,
      "metadata": {
        "id": "EIBnBgRdVbeL"
      },
      "outputs": [],
      "source": [
        "import numpy as np\n",
        "import pandas as pd"
      ]
    },
    {
      "cell_type": "code",
      "source": [
        "spam_df=pd.read_csv(\"/content/spam_complete.csv\")"
      ],
      "metadata": {
        "id": "yEycBrKuWFC_"
      },
      "execution_count": null,
      "outputs": []
    },
    {
      "cell_type": "code",
      "source": [
        "spam_df.value_counts()"
      ],
      "metadata": {
        "colab": {
          "base_uri": "https://localhost:8080/"
        },
        "id": "EUy2DMQDXuZT",
        "outputId": "09222b48-4845-4fd5-d577-5e0d75ee2c27"
      },
      "execution_count": null,
      "outputs": [
        {
          "output_type": "execute_result",
          "data": {
            "text/plain": [
              "word_freq_make  word_freq_address  word_freq_all  word_freq_3d  word_freq_our  word_freq_over  word_freq_remove  word_freq_internet  word_freq_order  word_freq_mail  word_freq_receive  word_freq_will  word_freq_people  word_freq_report  word_freq_addresses  word_freq_free  word_freq_business  word_freq_email  word_freq_you  word_freq_credit  word_freq_your  word_freq_font  word_freq_000  word_freq_money  word_freq_hp  word_freq_hpl  word_freq_george  word_freq_650  word_freq_lab  word_freq_labs  word_freq_telnet  word_freq_857  word_freq_data  word_freq_415  word_freq_85  word_freq_technology  word_freq_1999  word_freq_parts  word_freq_pm  word_freq_direct  word_freq_cs  word_freq_meeting  word_freq_original  word_freq_project  word_freq_re  word_freq_edu  word_freq_table  word_freq_conference  char_freq_;  char_freq_(  char_freq_[  char_freq_!  char_freq_$  char_freq_#  capital_run_length_average  capital_run_length_longest  capital_run_length_total  SPAM/NO_SPAM\n",
              "0.00            0.00               0.0            0.0           0.0            0.0             0.0               0.00                0.0              0.0             0.0                0.0             0.0               0.0               0.0                  0.00            0.0                 0.00             0.0            0.0               0.00            0.0             0.00           0.00             0.0           0.0            20.00             0.0            0.0            0.0             0.0               0.0            0.0             0.0            0.0           0.0                   0.0             0.0              0.0           0.0               0.0           0.0                0.0                 0.0                0.00          0.0            0.0              0.0                   0.0          0.000        0.0          0.000        0.000        0.0          1.000                       1                           5                         0               69\n",
              "                14.28              0.0            0.0           0.0            0.0             0.0               0.00                0.0              0.0             0.0                0.0             0.0               0.0               0.0                  0.00            0.0                 0.00             0.0            0.0               0.00            0.0             0.00           0.00             0.0           0.0            0.00              0.0            0.0            0.0             0.0               0.0            0.0             0.0            0.0           0.0                   0.0             0.0              0.0           0.0               0.0           0.0                0.0                 0.0                0.00          0.0            0.0              0.0                   0.0          0.000        0.0          0.000        0.000        0.0          1.800                       5                           9                         0               35\n",
              "                0.00               0.0            0.0           0.0            0.0             0.0               0.00                0.0              0.0             0.0                0.0             0.0               0.0               0.0                  0.00            0.0                 0.00             0.0            0.0               0.00            0.0             0.00           0.00             0.0           0.0            0.00              0.0            0.0            0.0             0.0               0.0            0.0             0.0            0.0           0.0                   0.0             0.0              0.0           0.0               0.0           0.0                0.0                 0.0                0.00          0.0            0.0              0.0                   0.0          0.000        0.0          0.000        0.000        0.0          1.000                       1                           3                         0               19\n",
              "                                                                                                                                                                                                                                                                                                                                                                                                                                                                                                                                                                                                                                                                                                                                                                                                                                                                                                                                                                            4                         0               13\n",
              "2.00            0.00               0.0            0.0           0.0            0.0             0.0               0.00                0.0              0.0             2.0                2.0             0.0               0.0               0.0                  0.00            0.0                 0.00             2.0            0.0               8.00            0.0             0.00           0.00             0.0           0.0            0.00              0.0            0.0            0.0             0.0               0.0            0.0             0.0            0.0           0.0                   0.0             0.0              0.0           0.0               0.0           0.0                0.0                 0.0                0.00          0.0            0.0              0.0                   0.0          0.000        0.0          0.000        0.000        0.0          5.888                       29                          53                        0               11\n",
              "                                                                                                                                                                                                                                                                                                                                                                                                                                                                                                                                                                                                                                                                                                                                                                                                                                                                                                                                                                                                                      ..\n",
              "0.00            0.00               0.0            0.0           0.0            0.0             0.0               1.11                0.0              0.0             0.0                0.0             0.0               0.0               0.0                  0.00            0.0                 0.00             0.0            0.0               0.00            0.0             1.11           0.00             0.0           0.0            0.00              0.0            0.0            0.0             0.0               0.0            0.0             0.0            0.0           0.0                   0.0             0.0              0.0           0.0               0.0           0.0                0.0                 0.0                1.11          0.0            0.0              0.0                   0.0          0.208        0.0          0.208        0.416        0.0          3.950                       23                          79                        1                1\n",
              "                                                                                                                 1.12                0.0              0.0             0.0                0.0             0.0               0.0               0.0                  0.00            0.0                 0.00             0.0            0.0               0.00            0.0             1.12           0.00             0.0           0.0            0.00              0.0            0.0            0.0             0.0               0.0            0.0             0.0            0.0           0.0                   0.0             0.0              0.0           0.0               0.0           0.0                0.0                 0.0                1.12          0.0            0.0              0.0                   0.0          0.204        0.0          0.408        0.408        0.0          4.100                       25                          82                        1                1\n",
              "                                                                                                                                                                                                                                                                                                                                                                                                                                                                                                                                                                                                                                                                                                                                                                                                                                                   0.212        0.0          0.424        0.424        0.0          4.100                       25                          82                        1                1\n",
              "                                                                                                                 1.17                0.0              0.0             0.0                0.0             0.0               0.0               0.0                  0.00            0.0                 0.00             0.0            0.0               0.00            0.0             0.00           0.00             0.0           4.7            1.17              0.0            0.0            0.0             0.0               0.0            0.0             0.0            0.0           0.0                   0.0             0.0              0.0           0.0               0.0           0.0                0.0                 0.0                0.00          0.0            0.0              0.0                   0.0          0.196        0.0          0.000        0.000        0.0          1.294                       3                           22                        0                1\n",
              "4.54            4.54               0.0            0.0           0.0            0.0             0.0               0.00                0.0              0.0             0.0                0.0             0.0               0.0               0.0                  4.54            0.0                 9.09             0.0            0.0               4.54            0.0             0.00           9.09             0.0           0.0            0.00              0.0            0.0            0.0             0.0               0.0            0.0             0.0            0.0           0.0                   0.0             0.0              0.0           0.0               0.0           0.0                0.0                 0.0                0.00          0.0            0.0              0.0                   0.0          0.000        0.0          3.076        0.000        0.0          1.428                       4                           10                        1                1\n",
              "Length: 4210, dtype: int64"
            ]
          },
          "metadata": {},
          "execution_count": 7
        }
      ]
    },
    {
      "cell_type": "code",
      "source": [
        "spam_df.info()"
      ],
      "metadata": {
        "colab": {
          "base_uri": "https://localhost:8080/"
        },
        "id": "UJQiMKk9KfDp",
        "outputId": "3604b8bd-32b0-412b-d044-b0b372e518f7"
      },
      "execution_count": null,
      "outputs": [
        {
          "output_type": "stream",
          "name": "stdout",
          "text": [
            "<class 'pandas.core.frame.DataFrame'>\n",
            "RangeIndex: 4601 entries, 0 to 4600\n",
            "Data columns (total 58 columns):\n",
            " #   Column                      Non-Null Count  Dtype  \n",
            "---  ------                      --------------  -----  \n",
            " 0   word_freq_make              4601 non-null   float64\n",
            " 1   word_freq_address           4601 non-null   float64\n",
            " 2   word_freq_all               4601 non-null   float64\n",
            " 3   word_freq_3d                4601 non-null   float64\n",
            " 4   word_freq_our               4601 non-null   float64\n",
            " 5   word_freq_over              4601 non-null   float64\n",
            " 6   word_freq_remove            4601 non-null   float64\n",
            " 7   word_freq_internet          4601 non-null   float64\n",
            " 8   word_freq_order             4601 non-null   float64\n",
            " 9   word_freq_mail              4601 non-null   float64\n",
            " 10  word_freq_receive           4601 non-null   float64\n",
            " 11  word_freq_will              4601 non-null   float64\n",
            " 12  word_freq_people            4601 non-null   float64\n",
            " 13  word_freq_report            4601 non-null   float64\n",
            " 14  word_freq_addresses         4601 non-null   float64\n",
            " 15  word_freq_free              4601 non-null   float64\n",
            " 16  word_freq_business          4601 non-null   float64\n",
            " 17  word_freq_email             4601 non-null   float64\n",
            " 18  word_freq_you               4601 non-null   float64\n",
            " 19  word_freq_credit            4601 non-null   float64\n",
            " 20  word_freq_your              4601 non-null   float64\n",
            " 21  word_freq_font              4601 non-null   float64\n",
            " 22  word_freq_000               4601 non-null   float64\n",
            " 23  word_freq_money             4601 non-null   float64\n",
            " 24  word_freq_hp                4601 non-null   float64\n",
            " 25  word_freq_hpl               4601 non-null   float64\n",
            " 26  word_freq_george            4601 non-null   float64\n",
            " 27  word_freq_650               4601 non-null   float64\n",
            " 28  word_freq_lab               4601 non-null   float64\n",
            " 29  word_freq_labs              4601 non-null   float64\n",
            " 30  word_freq_telnet            4601 non-null   float64\n",
            " 31  word_freq_857               4601 non-null   float64\n",
            " 32  word_freq_data              4601 non-null   float64\n",
            " 33  word_freq_415               4601 non-null   float64\n",
            " 34  word_freq_85                4601 non-null   float64\n",
            " 35  word_freq_technology        4601 non-null   float64\n",
            " 36  word_freq_1999              4601 non-null   float64\n",
            " 37  word_freq_parts             4601 non-null   float64\n",
            " 38  word_freq_pm                4601 non-null   float64\n",
            " 39  word_freq_direct            4601 non-null   float64\n",
            " 40  word_freq_cs                4601 non-null   float64\n",
            " 41  word_freq_meeting           4601 non-null   float64\n",
            " 42  word_freq_original          4601 non-null   float64\n",
            " 43  word_freq_project           4601 non-null   float64\n",
            " 44  word_freq_re                4601 non-null   float64\n",
            " 45  word_freq_edu               4601 non-null   float64\n",
            " 46  word_freq_table             4601 non-null   float64\n",
            " 47  word_freq_conference        4601 non-null   float64\n",
            " 48  char_freq_;                 4601 non-null   float64\n",
            " 49  char_freq_(                 4601 non-null   float64\n",
            " 50  char_freq_[                 4601 non-null   float64\n",
            " 51  char_freq_!                 4601 non-null   float64\n",
            " 52  char_freq_$                 4601 non-null   float64\n",
            " 53  char_freq_#                 4601 non-null   float64\n",
            " 54  capital_run_length_average  4601 non-null   float64\n",
            " 55  capital_run_length_longest  4601 non-null   int64  \n",
            " 56  capital_run_length_total    4601 non-null   int64  \n",
            " 57  SPAM/NO_SPAM                4601 non-null   int64  \n",
            "dtypes: float64(55), int64(3)\n",
            "memory usage: 2.0 MB\n"
          ]
        }
      ]
    },
    {
      "cell_type": "code",
      "source": [
        "spam_df_1=spam_df[spam_df[\"SPAM/NO_SPAM\"]==1]\n",
        "spam_df_0=spam_df[spam_df[\"SPAM/NO_SPAM\"]==0]"
      ],
      "metadata": {
        "id": "QlaA42Sq4wwn"
      },
      "execution_count": null,
      "outputs": []
    },
    {
      "cell_type": "code",
      "source": [
        "spam_df_1.mean()"
      ],
      "metadata": {
        "colab": {
          "base_uri": "https://localhost:8080/"
        },
        "id": "APs7f7AF5B_G",
        "outputId": "61757d95-98e7-45ff-a38b-2e6415009a64"
      },
      "execution_count": null,
      "outputs": [
        {
          "output_type": "execute_result",
          "data": {
            "text/plain": [
              "word_freq_make                  0.152339\n",
              "word_freq_address               0.164650\n",
              "word_freq_all                   0.403795\n",
              "word_freq_3d                    0.164672\n",
              "word_freq_our                   0.513955\n",
              "word_freq_over                  0.174876\n",
              "word_freq_remove                0.275405\n",
              "word_freq_internet              0.208141\n",
              "word_freq_order                 0.170061\n",
              "word_freq_mail                  0.350507\n",
              "word_freq_receive               0.118434\n",
              "word_freq_will                  0.549972\n",
              "word_freq_people                0.143547\n",
              "word_freq_report                0.083574\n",
              "word_freq_addresses             0.112079\n",
              "word_freq_free                  0.518362\n",
              "word_freq_business              0.287507\n",
              "word_freq_email                 0.319228\n",
              "word_freq_you                   2.264539\n",
              "word_freq_credit                0.205521\n",
              "word_freq_your                  1.380370\n",
              "word_freq_font                  0.238036\n",
              "word_freq_000                   0.247055\n",
              "word_freq_money                 0.212879\n",
              "word_freq_hp                    0.017479\n",
              "word_freq_hpl                   0.009173\n",
              "word_freq_george                0.001550\n",
              "word_freq_650                   0.018798\n",
              "word_freq_lab                   0.000684\n",
              "word_freq_labs                  0.005968\n",
              "word_freq_telnet                0.001274\n",
              "word_freq_857                   0.000518\n",
              "word_freq_data                  0.014562\n",
              "word_freq_415                   0.001776\n",
              "word_freq_85                    0.006928\n",
              "word_freq_technology            0.029515\n",
              "word_freq_1999                  0.043469\n",
              "word_freq_parts                 0.004710\n",
              "word_freq_pm                    0.012427\n",
              "word_freq_direct                0.036718\n",
              "word_freq_cs                    0.000055\n",
              "word_freq_meeting               0.002443\n",
              "word_freq_original              0.008450\n",
              "word_freq_project               0.006244\n",
              "word_freq_re                    0.125091\n",
              "word_freq_edu                   0.014727\n",
              "word_freq_table                 0.001219\n",
              "word_freq_conference            0.002101\n",
              "char_freq_;                     0.020573\n",
              "char_freq_(                     0.108970\n",
              "char_freq_[                     0.008199\n",
              "char_freq_!                     0.513713\n",
              "char_freq_$                     0.174478\n",
              "char_freq_#                     0.078877\n",
              "capital_run_length_average      9.519165\n",
              "capital_run_length_longest    104.393271\n",
              "capital_run_length_total      470.619415\n",
              "SPAM/NO_SPAM                    1.000000\n",
              "dtype: float64"
            ]
          },
          "metadata": {},
          "execution_count": 80
        }
      ]
    },
    {
      "cell_type": "code",
      "source": [
        "spam_df_0.mean().sort_values(ascending=False)"
      ],
      "metadata": {
        "colab": {
          "base_uri": "https://localhost:8080/"
        },
        "id": "n7mzN403-KPQ",
        "outputId": "d71affa5-4f6f-4e80-aca9-8563fd99d21f"
      },
      "execution_count": null,
      "outputs": [
        {
          "output_type": "execute_result",
          "data": {
            "text/plain": [
              "capital_run_length_total      161.470947\n",
              "capital_run_length_longest     18.214491\n",
              "capital_run_length_average      2.377301\n",
              "word_freq_you                   1.270341\n",
              "word_freq_george                1.265265\n",
              "word_freq_hp                    0.895473\n",
              "word_freq_will                  0.536324\n",
              "word_freq_your                  0.438702\n",
              "word_freq_hpl                   0.431994\n",
              "word_freq_re                    0.415760\n",
              "word_freq_edu                   0.287184\n",
              "word_freq_address               0.244466\n",
              "word_freq_meeting               0.216808\n",
              "word_freq_all                   0.200581\n",
              "word_freq_1999                  0.197744\n",
              "word_freq_650                   0.193806\n",
              "word_freq_our                   0.181040\n",
              "word_freq_85                    0.169455\n",
              "word_freq_mail                  0.167170\n",
              "word_freq_labs                  0.165854\n",
              "word_freq_lab                   0.162794\n",
              "char_freq_(                     0.158578\n",
              "word_freq_data                  0.150986\n",
              "word_freq_technology            0.141671\n",
              "word_freq_project               0.126636\n",
              "word_freq_pm                    0.121679\n",
              "char_freq_!                     0.109984\n",
              "word_freq_telnet                0.106033\n",
              "word_freq_email                 0.097292\n",
              "word_freq_direct                0.083117\n",
              "word_freq_415                   0.077787\n",
              "word_freq_857                   0.077306\n",
              "word_freq_free                  0.073587\n",
              "word_freq_make                  0.073479\n",
              "word_freq_cs                    0.072027\n",
              "word_freq_original              0.070581\n",
              "word_freq_people                0.061664\n",
              "word_freq_conference            0.051227\n",
              "char_freq_;                     0.050281\n",
              "word_freq_business              0.048346\n",
              "word_freq_font                  0.045226\n",
              "word_freq_over                  0.044544\n",
              "word_freq_report                0.042403\n",
              "word_freq_internet              0.038415\n",
              "word_freq_order                 0.038049\n",
              "char_freq_[                     0.022684\n",
              "char_freq_#                     0.021713\n",
              "word_freq_receive               0.021711\n",
              "word_freq_parts                 0.018723\n",
              "word_freq_money                 0.017138\n",
              "char_freq_$                     0.011648\n",
              "word_freq_remove                0.009383\n",
              "word_freq_addresses             0.008318\n",
              "word_freq_table                 0.008192\n",
              "word_freq_credit                0.007579\n",
              "word_freq_000                   0.007088\n",
              "word_freq_3d                    0.000886\n",
              "SPAM/NO_SPAM                    0.000000\n",
              "dtype: float64"
            ]
          },
          "metadata": {},
          "execution_count": 84
        }
      ]
    },
    {
      "cell_type": "code",
      "source": [
        "spam_df_1.mean().sort_values(ascending=False)"
      ],
      "metadata": {
        "colab": {
          "base_uri": "https://localhost:8080/"
        },
        "id": "oS0j5Zcv9mnD",
        "outputId": "cff5339e-9456-4ff3-9b27-ca355405c4fb"
      },
      "execution_count": null,
      "outputs": [
        {
          "output_type": "execute_result",
          "data": {
            "text/plain": [
              "capital_run_length_total      470.619415\n",
              "capital_run_length_longest    104.393271\n",
              "capital_run_length_average      9.519165\n",
              "word_freq_you                   2.264539\n",
              "word_freq_your                  1.380370\n",
              "SPAM/NO_SPAM                    1.000000\n",
              "word_freq_will                  0.549972\n",
              "word_freq_free                  0.518362\n",
              "word_freq_our                   0.513955\n",
              "char_freq_!                     0.513713\n",
              "word_freq_all                   0.403795\n",
              "word_freq_mail                  0.350507\n",
              "word_freq_email                 0.319228\n",
              "word_freq_business              0.287507\n",
              "word_freq_remove                0.275405\n",
              "word_freq_000                   0.247055\n",
              "word_freq_font                  0.238036\n",
              "word_freq_money                 0.212879\n",
              "word_freq_internet              0.208141\n",
              "word_freq_credit                0.205521\n",
              "word_freq_over                  0.174876\n",
              "char_freq_$                     0.174478\n",
              "word_freq_order                 0.170061\n",
              "word_freq_3d                    0.164672\n",
              "word_freq_address               0.164650\n",
              "word_freq_make                  0.152339\n",
              "word_freq_people                0.143547\n",
              "word_freq_re                    0.125091\n",
              "word_freq_receive               0.118434\n",
              "word_freq_addresses             0.112079\n",
              "char_freq_(                     0.108970\n",
              "word_freq_report                0.083574\n",
              "char_freq_#                     0.078877\n",
              "word_freq_1999                  0.043469\n",
              "word_freq_direct                0.036718\n",
              "word_freq_technology            0.029515\n",
              "char_freq_;                     0.020573\n",
              "word_freq_650                   0.018798\n",
              "word_freq_hp                    0.017479\n",
              "word_freq_edu                   0.014727\n",
              "word_freq_data                  0.014562\n",
              "word_freq_pm                    0.012427\n",
              "word_freq_hpl                   0.009173\n",
              "word_freq_original              0.008450\n",
              "char_freq_[                     0.008199\n",
              "word_freq_85                    0.006928\n",
              "word_freq_project               0.006244\n",
              "word_freq_labs                  0.005968\n",
              "word_freq_parts                 0.004710\n",
              "word_freq_meeting               0.002443\n",
              "word_freq_conference            0.002101\n",
              "word_freq_415                   0.001776\n",
              "word_freq_george                0.001550\n",
              "word_freq_telnet                0.001274\n",
              "word_freq_table                 0.001219\n",
              "word_freq_lab                   0.000684\n",
              "word_freq_857                   0.000518\n",
              "word_freq_cs                    0.000055\n",
              "dtype: float64"
            ]
          },
          "metadata": {},
          "execution_count": 85
        }
      ]
    },
    {
      "cell_type": "code",
      "source": [
        "(spam_df.columns)"
      ],
      "metadata": {
        "colab": {
          "base_uri": "https://localhost:8080/"
        },
        "id": "nrRk2OveWMF8",
        "outputId": "6d19a1b8-a202-4f18-9acf-0f8a17b889e4"
      },
      "execution_count": null,
      "outputs": [
        {
          "output_type": "execute_result",
          "data": {
            "text/plain": [
              "Index(['word_freq_make', 'word_freq_address', 'word_freq_all', 'word_freq_3d',\n",
              "       'word_freq_our', 'word_freq_over', 'word_freq_remove',\n",
              "       'word_freq_internet', 'word_freq_order', 'word_freq_mail',\n",
              "       'word_freq_receive', 'word_freq_will', 'word_freq_people',\n",
              "       'word_freq_report', 'word_freq_addresses', 'word_freq_free',\n",
              "       'word_freq_business', 'word_freq_email', 'word_freq_you',\n",
              "       'word_freq_credit', 'word_freq_your', 'word_freq_font', 'word_freq_000',\n",
              "       'word_freq_money', 'word_freq_hp', 'word_freq_hpl', 'word_freq_george',\n",
              "       'word_freq_650', 'word_freq_lab', 'word_freq_labs', 'word_freq_telnet',\n",
              "       'word_freq_857', 'word_freq_data', 'word_freq_415', 'word_freq_85',\n",
              "       'word_freq_technology', 'word_freq_1999', 'word_freq_parts',\n",
              "       'word_freq_pm', 'word_freq_direct', 'word_freq_cs', 'word_freq_meeting',\n",
              "       'word_freq_original', 'word_freq_project', 'word_freq_re',\n",
              "       'word_freq_edu', 'word_freq_table', 'word_freq_conference',\n",
              "       'char_freq_;', 'char_freq_(', 'char_freq_[', 'char_freq_!',\n",
              "       'char_freq_$', 'char_freq_#', 'capital_run_length_average',\n",
              "       'capital_run_length_longest', 'capital_run_length_total',\n",
              "       'SPAM/NO_SPAM'],\n",
              "      dtype='object')"
            ]
          },
          "metadata": {},
          "execution_count": 8
        }
      ]
    },
    {
      "cell_type": "code",
      "source": [
        "x=np.array(spam_df[['word_freq_make', 'word_freq_address', 'word_freq_all', 'word_freq_3d',\n",
        "       'word_freq_our', 'word_freq_over', 'word_freq_remove',\n",
        "       'word_freq_internet', 'word_freq_order', 'word_freq_mail',\n",
        "       'word_freq_receive', 'word_freq_will', 'word_freq_people',\n",
        "       'word_freq_report', 'word_freq_addresses', 'word_freq_free',\n",
        "       'word_freq_business', 'word_freq_email', 'word_freq_you',\n",
        "       'word_freq_credit', 'word_freq_your', 'word_freq_font', 'word_freq_000',\n",
        "       'word_freq_money', 'word_freq_hp', 'word_freq_hpl', 'word_freq_george',\n",
        "       'word_freq_650', 'word_freq_lab', 'word_freq_labs', 'word_freq_telnet',\n",
        "       'word_freq_857', 'word_freq_data', 'word_freq_415', 'word_freq_85',\n",
        "       'word_freq_technology', 'word_freq_1999', 'word_freq_parts',\n",
        "       'word_freq_pm', 'word_freq_direct', 'word_freq_cs', 'word_freq_meeting',\n",
        "       'word_freq_original', 'word_freq_project', 'word_freq_re',\n",
        "       'word_freq_edu', 'word_freq_table', 'word_freq_conference',\n",
        "       'char_freq_;', 'char_freq_(', 'char_freq_[', 'char_freq_!',\n",
        "       'char_freq_$', 'char_freq_#', 'capital_run_length_average',\n",
        "       'capital_run_length_longest', 'capital_run_length_total']])\n",
        "y=np.array(spam_df[['SPAM/NO_SPAM']])"
      ],
      "metadata": {
        "id": "gSaNt1ONXbD-"
      },
      "execution_count": null,
      "outputs": []
    },
    {
      "cell_type": "code",
      "source": [
        "#splitting into training and testing data set\n",
        "from sklearn.model_selection import train_test_split\n",
        "x_train,x_test,y_train,y_test=train_test_split(x,y,test_size=0.3,random_state=16)"
      ],
      "metadata": {
        "id": "7CBVQkiqfYOu"
      },
      "execution_count": null,
      "outputs": []
    },
    {
      "cell_type": "code",
      "source": [
        "#Normalising the IV\n",
        "from sklearn import preprocessing\n",
        "sc=preprocessing.StandardScaler()\n",
        "x_train=sc.fit_transform(x_train)\n",
        "x_test=sc.transform(x_test)"
      ],
      "metadata": {
        "id": "Eal1HHOb4CsT"
      },
      "execution_count": null,
      "outputs": []
    },
    {
      "cell_type": "code",
      "source": [
        "pre=[]\n",
        "mis=[]\n",
        "pre_train=[]\n",
        "mis_train=[]\n",
        "for i in range(1,25):\n",
        "  from sklearn import svm\n",
        "  clf=svm.SVC(C=i,kernel=\"rbf\")\n",
        "  clf.fit(x_train,y_train)\n",
        "  yhat=clf.predict(x_test)\n",
        "  yhat_train=clf.predict(x_train)\n",
        "  from sklearn.metrics import classification_report,confusion_matrix\n",
        "  #print(\"The confusion matrix = \\n\",confusion_matrix(y_test,yhat))\n",
        "  #print(\"The Classification Report = \\n\", classification_report(y_test,yhat))\n",
        "  report=(classification_report(y_test,yhat,output_dict=True))\n",
        "  report_train=classification_report(y_train,yhat_train,output_dict=True)\n",
        "  pre.append(report[\"1\"]['precision'])\n",
        "  pre_train.append(report_train[\"1\"]['precision'])\n",
        "  con=confusion_matrix(y_test,yhat)\n",
        "  con_train=confusion_matrix(y_train,yhat_train)\n",
        "  mis.append((con[0][1]+con[1][0])/(con[0][0]+con[0][1]+con[1][0]+con[1][1]))\n",
        "  mis_train.append((con_train[0][1]+con_train[1][0])/(con_train[0][0]+con_train[0][1]+con_train[1][0]+con_train[1][1]))"
      ],
      "metadata": {
        "id": "QqKeFGbg0ti1"
      },
      "execution_count": null,
      "outputs": []
    },
    {
      "cell_type": "code",
      "source": [
        "print(\"for c = \",mis.index(min(mis))+1,\", misclassification = \",min(mis))\n",
        "print(\"for c = \",pre.index(max(pre))+1,\", Precision = \",max(pre))"
      ],
      "metadata": {
        "colab": {
          "base_uri": "https://localhost:8080/"
        },
        "id": "QjaLwBjR2nip",
        "outputId": "e6f6a7ba-06d9-421c-9ffb-05a4d11b5a20"
      },
      "execution_count": null,
      "outputs": [
        {
          "output_type": "stream",
          "name": "stdout",
          "text": [
            "for c =  2 , misclassification =  0.05720492396813903\n",
            "for c =  3 , Precision =  0.9529190207156308\n"
          ]
        }
      ]
    },
    {
      "cell_type": "code",
      "source": [
        "mis[pre.index(max(pre))]\n",
        "from sklearn import svm\n",
        "clf=svm.SVC(C=pre.index(max(pre))+1,kernel=\"rbf\")\n",
        "clf.fit(x_train,y_train)\n",
        "yhat=clf.predict(x_test)\n",
        "from sklearn.metrics import classification_report,confusion_matrix\n",
        "print(classification_report(y_test,yhat))"
      ],
      "metadata": {
        "colab": {
          "base_uri": "https://localhost:8080/"
        },
        "id": "cC5h1nev1REE",
        "outputId": "169955a5-7310-4130-b14d-d9b418bf0895"
      },
      "execution_count": null,
      "outputs": [
        {
          "output_type": "stream",
          "name": "stderr",
          "text": [
            "/usr/local/lib/python3.7/dist-packages/sklearn/utils/validation.py:993: DataConversionWarning: A column-vector y was passed when a 1d array was expected. Please change the shape of y to (n_samples, ), for example using ravel().\n",
            "  y = column_or_1d(y, warn=True)\n"
          ]
        },
        {
          "output_type": "stream",
          "name": "stdout",
          "text": [
            "              precision    recall  f1-score   support\n",
            "\n",
            "           0       0.94      0.97      0.95       821\n",
            "           1       0.95      0.90      0.93       560\n",
            "\n",
            "    accuracy                           0.94      1381\n",
            "   macro avg       0.94      0.94      0.94      1381\n",
            "weighted avg       0.94      0.94      0.94      1381\n",
            "\n"
          ]
        }
      ]
    },
    {
      "cell_type": "code",
      "source": [
        "import matplotlib.pyplot as plt\n",
        "import seaborn as sns\n",
        "sns.set_style(style=\"darkgrid\")\n",
        "plt.plot(range(1,25),mis)\n",
        "#plt.plot(range(1,25),mis_train)\n",
        "\n",
        "plt.xlabel(\"value of C\")\n",
        "plt.ylabel(\"value of misclassification\")\n",
        "plt.legend([\"test\"])\n",
        "plt.title(\"For Test dataset\")"
      ],
      "metadata": {
        "colab": {
          "base_uri": "https://localhost:8080/",
          "height": 312
        },
        "id": "WN73FhJnAy7f",
        "outputId": "9880c0ad-487d-4938-ce72-a25649fed71e"
      },
      "execution_count": null,
      "outputs": [
        {
          "output_type": "execute_result",
          "data": {
            "text/plain": [
              "Text(0.5, 1.0, 'For Test dataset')"
            ]
          },
          "metadata": {},
          "execution_count": 52
        },
        {
          "output_type": "display_data",
          "data": {
            "text/plain": [
              "<Figure size 432x288 with 1 Axes>"
            ],
            "image/png": "[encoded data removed]"
          },
          "metadata": {}
        }
      ]
    },
    {
      "cell_type": "code",
      "source": [
        "plt.plot(range(1,25),mis_train,color=\"red\")\n",
        "sns.set_style(style=\"darkgrid\")\n",
        "plt.xlabel(\"value of C\")\n",
        "plt.ylabel(\"value of misclassification\")\n",
        "plt.legend([\"train\"])\n",
        "plt.title(\"For Train dataset\")"
      ],
      "metadata": {
        "colab": {
          "base_uri": "https://localhost:8080/",
          "height": 312
        },
        "id": "MstoYiIa73Z7",
        "outputId": "40b7d016-1eb9-43d6-fde6-528a7f37bdf8"
      },
      "execution_count": null,
      "outputs": [
        {
          "output_type": "execute_result",
          "data": {
            "text/plain": [
              "Text(0.5, 1.0, 'For Train dataset')"
            ]
          },
          "metadata": {},
          "execution_count": 53
        },
        {
          "output_type": "display_data",
          "data": {
            "text/plain": [
              "<Figure size 432x288 with 1 Axes>"
            ],
            "image/png": "[encoded data removed]"
          },
          "metadata": {}
        }
      ]
    },
    {
      "cell_type": "code",
      "source": [
        "plt.plot(range(1,25),pre)\n",
        "sns.set_style(style=\"darkgrid\")\n",
        "plt.xlabel(\"value of C\")\n",
        "plt.ylabel(\"value of precision\")\n",
        "plt.title(\"For Test dataset\")"
      ],
      "metadata": {
        "colab": {
          "base_uri": "https://localhost:8080/",
          "height": 312
        },
        "id": "DnQ-5o2xCT2N",
        "outputId": "77ecca76-cb76-4fc0-db06-22f72fa15e2e"
      },
      "execution_count": null,
      "outputs": [
        {
          "output_type": "execute_result",
          "data": {
            "text/plain": [
              "Text(0.5, 1.0, 'For Test dataset')"
            ]
          },
          "metadata": {},
          "execution_count": 54
        },
        {
          "output_type": "display_data",
          "data": {
            "text/plain": [
              "<Figure size 432x288 with 1 Axes>"
            ],
            "image/png": "[encoded data removed]"
          },
          "metadata": {}
        }
      ]
    },
    {
      "cell_type": "code",
      "source": [
        "plt.plot(range(1,25),pre_train,color=\"red\")\n",
        "plt.xlabel(\"value of C\")\n",
        "plt.ylabel(\"value of precision\")\n",
        "plt.title(\"For Train dataset\")"
      ],
      "metadata": {
        "colab": {
          "base_uri": "https://localhost:8080/",
          "height": 312
        },
        "id": "INJSnCM18XPh",
        "outputId": "bd6b7a22-1adf-42d2-bdbe-bf13f98aad3e"
      },
      "execution_count": null,
      "outputs": [
        {
          "output_type": "execute_result",
          "data": {
            "text/plain": [
              "Text(0.5, 1.0, 'For Train dataset')"
            ]
          },
          "metadata": {},
          "execution_count": 55
        },
        {
          "output_type": "display_data",
          "data": {
            "text/plain": [
              "<Figure size 432x288 with 1 Axes>"
            ],
            "image/png": "[encoded data removed]"
          },
          "metadata": {}
        }
      ]
    }
  ]
}